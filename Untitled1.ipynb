{
 "cells": [
  {
   "cell_type": "code",
   "execution_count": 1,
   "metadata": {
    "collapsed": true
   },
   "outputs": [],
   "source": [
    "import numpy as np\n",
    "import matplotlib.pyplot as plt\n",
    "import seaborn as sns\n",
    "import pandas as pd\n",
    "\n",
    "%matplotlib inline"
   ]
  },
  {
   "cell_type": "code",
   "execution_count": 2,
   "metadata": {
    "collapsed": true
   },
   "outputs": [],
   "source": [
    "data = pd.read_csv('data.csv')"
   ]
  },
  {
   "cell_type": "code",
   "execution_count": 3,
   "metadata": {
    "collapsed": true
   },
   "outputs": [],
   "source": [
    "X = data.drop('Year', axis=1).drop('Month', axis=1).drop('Date', axis=1).drop('Depth', axis=1).drop('Area', axis=1).drop('Lateral_Seepage', axis=1)\n",
    "y = data['Depth']"
   ]
  },
  {
   "cell_type": "code",
   "execution_count": 5,
   "metadata": {
    "collapsed": false
   },
   "outputs": [
    {
     "name": "stdout",
     "output_type": "stream",
     "text": [
      "0    2.4\n",
      "1    2.7\n",
      "2    2.8\n",
      "3    2.7\n",
      "4    1.8\n",
      "Name: Depth, dtype: float64\n"
     ]
    },
    {
     "data": {
      "text/html": [
       "<div>\n",
       "<table border=\"1\" class=\"dataframe\">\n",
       "  <thead>\n",
       "    <tr style=\"text-align: right;\">\n",
       "      <th></th>\n",
       "      <th>Irrigation</th>\n",
       "      <th>Rainfall</th>\n",
       "      <th>Industry</th>\n",
       "      <th>Live</th>\n",
       "      <th>Livestocks</th>\n",
       "      <th>Evaporation</th>\n",
       "      <th>Water_Discharge</th>\n",
       "    </tr>\n",
       "  </thead>\n",
       "  <tbody>\n",
       "    <tr>\n",
       "      <th>0</th>\n",
       "      <td>0.0</td>\n",
       "      <td>199.7</td>\n",
       "      <td>91.3</td>\n",
       "      <td>150.2</td>\n",
       "      <td>53.3</td>\n",
       "      <td>2470.3</td>\n",
       "      <td>0.0</td>\n",
       "    </tr>\n",
       "    <tr>\n",
       "      <th>1</th>\n",
       "      <td>0.0</td>\n",
       "      <td>127.1</td>\n",
       "      <td>91.3</td>\n",
       "      <td>150.2</td>\n",
       "      <td>53.3</td>\n",
       "      <td>4889.8</td>\n",
       "      <td>0.0</td>\n",
       "    </tr>\n",
       "    <tr>\n",
       "      <th>2</th>\n",
       "      <td>0.0</td>\n",
       "      <td>0.0</td>\n",
       "      <td>91.3</td>\n",
       "      <td>150.2</td>\n",
       "      <td>53.3</td>\n",
       "      <td>16194.3</td>\n",
       "      <td>0.0</td>\n",
       "    </tr>\n",
       "    <tr>\n",
       "      <th>3</th>\n",
       "      <td>5693.8</td>\n",
       "      <td>18.2</td>\n",
       "      <td>91.3</td>\n",
       "      <td>150.2</td>\n",
       "      <td>53.3</td>\n",
       "      <td>30223.2</td>\n",
       "      <td>0.0</td>\n",
       "    </tr>\n",
       "    <tr>\n",
       "      <th>4</th>\n",
       "      <td>18962.7</td>\n",
       "      <td>417.5</td>\n",
       "      <td>91.3</td>\n",
       "      <td>150.2</td>\n",
       "      <td>53.3</td>\n",
       "      <td>40663.6</td>\n",
       "      <td>1052.4</td>\n",
       "    </tr>\n",
       "  </tbody>\n",
       "</table>\n",
       "</div>"
      ],
      "text/plain": [
       "   Irrigation  Rainfall  Industry   Live  Livestocks  Evaporation  \\\n",
       "0         0.0     199.7      91.3  150.2        53.3       2470.3   \n",
       "1         0.0     127.1      91.3  150.2        53.3       4889.8   \n",
       "2         0.0       0.0      91.3  150.2        53.3      16194.3   \n",
       "3      5693.8      18.2      91.3  150.2        53.3      30223.2   \n",
       "4     18962.7     417.5      91.3  150.2        53.3      40663.6   \n",
       "\n",
       "   Water_Discharge  \n",
       "0              0.0  \n",
       "1              0.0  \n",
       "2              0.0  \n",
       "3              0.0  \n",
       "4           1052.4  "
      ]
     },
     "execution_count": 5,
     "metadata": {},
     "output_type": "execute_result"
    }
   ],
   "source": [
    "print y.head()\n",
    "X.head()"
   ]
  },
  {
   "cell_type": "code",
   "execution_count": 6,
   "metadata": {
    "collapsed": false
   },
   "outputs": [
    {
     "name": "stderr",
     "output_type": "stream",
     "text": [
      "/usr/local/lib/python2.7/dist-packages/sklearn/cross_validation.py:44: DeprecationWarning: This module was deprecated in version 0.18 in favor of the model_selection module into which all the refactored classes and functions are moved. Also note that the interface of the new CV iterators are different from that of this module. This module will be removed in 0.20.\n",
      "  \"This module will be removed in 0.20.\", DeprecationWarning)\n"
     ]
    }
   ],
   "source": [
    "from sklearn.cross_validation import train_test_split\n",
    "X_train, X_test, y_train, y_test = train_test_split(X, y, test_size=0.2, random_state=0)"
   ]
  },
  {
   "cell_type": "code",
   "execution_count": 7,
   "metadata": {
    "collapsed": false
   },
   "outputs": [
    {
     "data": {
      "text/plain": [
       "count    168.000000\n",
       "mean       2.107738\n",
       "std        0.380040\n",
       "min        1.100000\n",
       "25%        1.800000\n",
       "50%        2.100000\n",
       "75%        2.400000\n",
       "max        2.900000\n",
       "Name: Depth, dtype: float64"
      ]
     },
     "execution_count": 7,
     "metadata": {},
     "output_type": "execute_result"
    }
   ],
   "source": [
    "y.describe()"
   ]
  },
  {
   "cell_type": "code",
   "execution_count": 8,
   "metadata": {
    "collapsed": true
   },
   "outputs": [],
   "source": [
    "from sklearn.preprocessing import StandardScaler"
   ]
  },
  {
   "cell_type": "code",
   "execution_count": 9,
   "metadata": {
    "collapsed": true
   },
   "outputs": [],
   "source": [
    "ss_X = StandardScaler()\n",
    "ss_y = StandardScaler()"
   ]
  },
  {
   "cell_type": "code",
   "execution_count": 10,
   "metadata": {
    "collapsed": false
   },
   "outputs": [
    {
     "name": "stderr",
     "output_type": "stream",
     "text": [
      "/usr/local/lib/python2.7/dist-packages/sklearn/preprocessing/data.py:586: DeprecationWarning: Passing 1d arrays as data is deprecated in 0.17 and will raise ValueError in 0.19. Reshape your data either using X.reshape(-1, 1) if your data has a single feature or X.reshape(1, -1) if it contains a single sample.\n",
      "  warnings.warn(DEPRECATION_MSG_1D, DeprecationWarning)\n",
      "/usr/local/lib/python2.7/dist-packages/sklearn/preprocessing/data.py:649: DeprecationWarning: Passing 1d arrays as data is deprecated in 0.17 and will raise ValueError in 0.19. Reshape your data either using X.reshape(-1, 1) if your data has a single feature or X.reshape(1, -1) if it contains a single sample.\n",
      "  warnings.warn(DEPRECATION_MSG_1D, DeprecationWarning)\n",
      "/usr/local/lib/python2.7/dist-packages/sklearn/preprocessing/data.py:586: DeprecationWarning: Passing 1d arrays as data is deprecated in 0.17 and will raise ValueError in 0.19. Reshape your data either using X.reshape(-1, 1) if your data has a single feature or X.reshape(1, -1) if it contains a single sample.\n",
      "  warnings.warn(DEPRECATION_MSG_1D, DeprecationWarning)\n",
      "/usr/local/lib/python2.7/dist-packages/sklearn/preprocessing/data.py:649: DeprecationWarning: Passing 1d arrays as data is deprecated in 0.17 and will raise ValueError in 0.19. Reshape your data either using X.reshape(-1, 1) if your data has a single feature or X.reshape(1, -1) if it contains a single sample.\n",
      "  warnings.warn(DEPRECATION_MSG_1D, DeprecationWarning)\n"
     ]
    }
   ],
   "source": [
    "X_train = ss_X.fit_transform(X_train)\n",
    "X_test  = ss_X.fit_transform(X_test)\n",
    "y_train = ss_y.fit_transform(y_train)\n",
    "y_test  = ss_y.fit_transform(y_test)"
   ]
  },
  {
   "cell_type": "markdown",
   "metadata": {},
   "source": [
    "# Linear Model "
   ]
  },
  {
   "cell_type": "code",
   "execution_count": 12,
   "metadata": {
    "collapsed": false
   },
   "outputs": [],
   "source": [
    "from sklearn.linear_model import LinearRegression\n",
    "lr = LinearRegression()\n",
    "lr.fit(X_train, y_train)\n",
    "lr_y_pred = lr.predict(X_test)"
   ]
  },
  {
   "cell_type": "code",
   "execution_count": 15,
   "metadata": {
    "collapsed": false
   },
   "outputs": [],
   "source": [
    "from sklearn.linear_model import SGDRegressor\n",
    "sgdr = SGDRegressor()\n",
    "sgdr.fit(X_train, y_train)\n",
    "sgdr_y_pred = sgdr.predict(X_test)"
   ]
  },
  {
   "cell_type": "code",
   "execution_count": 22,
   "metadata": {
    "collapsed": false
   },
   "outputs": [
    {
     "name": "stdout",
     "output_type": "stream",
     "text": [
      "\n"
     ]
    }
   ],
   "source": [
    "from sklearn.metrics import r2_score, mean_squared_error, mean_absolute_error"
   ]
  },
  {
   "cell_type": "code",
   "execution_count": 79,
   "metadata": {
    "collapsed": false
   },
   "outputs": [
    {
     "name": "stdout",
     "output_type": "stream",
     "text": [
      "the value of R-squared of LinearRegression is  0.522303872667\n",
      "the MSE of LinearRegression is  0.069460157477\n",
      "the MAE of LinearRegression is  0.208569802715\n"
     ]
    }
   ],
   "source": [
    "print 'the value of R-squared of LinearRegression is ', r2_score(y_test, lr_y_pred)\n",
    "print 'the MSE of LinearRegression is ', mean_squared_error(ss_y.inverse_transform(y_test), ss_y.inverse_transform(lr_y_pred))\n",
    "print 'the MAE of LinearRegression is ', mean_absolute_error(ss_y.inverse_transform(y_test), ss_y.inverse_transform(lr_y_pred))"
   ]
  },
  {
   "cell_type": "code",
   "execution_count": 80,
   "metadata": {
    "collapsed": false
   },
   "outputs": [
    {
     "name": "stdout",
     "output_type": "stream",
     "text": [
      "the value of R-squared of SGDRegression is  0.447737596347\n",
      "the MSE of SGDRegression is  0.080302584282\n",
      "the MAE of SGDRegression is  0.227135307079\n"
     ]
    }
   ],
   "source": [
    "print 'the value of R-squared of SGDRegression is ', r2_score(y_test, sgdr_y_pred)\n",
    "print 'the MSE of SGDRegression is ', mean_squared_error(ss_y.inverse_transform(y_test), ss_y.inverse_transform(sgdr_y_pred))\n",
    "print 'the MAE of SGDRegression is ', mean_absolute_error(ss_y.inverse_transform(y_test), ss_y.inverse_transform(sgdr_y_pred))"
   ]
  },
  {
   "cell_type": "code",
   "execution_count": 70,
   "metadata": {
    "collapsed": true
   },
   "outputs": [],
   "source": [
    "from sklearn.linear_model import Ridge, ElasticNet, Lasso"
   ]
  },
  {
   "cell_type": "code",
   "execution_count": 72,
   "metadata": {
    "collapsed": true
   },
   "outputs": [],
   "source": [
    "model_ridge = Ridge()\n",
    "model_ridge.fit(X_train, y_train)\n",
    "ridge_y_pred = model_ridge.predict(X_test)"
   ]
  },
  {
   "cell_type": "code",
   "execution_count": 75,
   "metadata": {
    "collapsed": false
   },
   "outputs": [
    {
     "name": "stdout",
     "output_type": "stream",
     "text": [
      "the value of R-squared of RidgeRegeression is  0.523866885202\n",
      "the MSE of RidgeRegeression is  0.0692328851786\n",
      "the MAE of RidgeRegeression is  0.208942239191\n"
     ]
    }
   ],
   "source": [
    "print 'the value of R-squared of RidgeRegeression is ', r2_score(y_test, ridge_y_pred)\n",
    "print 'the MSE of RidgeRegeression is ', mean_squared_error(ss_y.inverse_transform(y_test), ss_y.inverse_transform(ridge_y_pred))\n",
    "print 'the MAE of RidgeRegeression is ', mean_absolute_error(ss_y.inverse_transform(y_test), ss_y.inverse_transform(ridge_y_pred))"
   ]
  },
  {
   "cell_type": "code",
   "execution_count": 74,
   "metadata": {
    "collapsed": true
   },
   "outputs": [],
   "source": [
    "model_lasso = Lasso()\n",
    "model_lasso.fit(X_train, y_train)\n",
    "lasso_y_pred = model_ridge.predict(X_test)"
   ]
  },
  {
   "cell_type": "code",
   "execution_count": 76,
   "metadata": {
    "collapsed": false
   },
   "outputs": [
    {
     "name": "stdout",
     "output_type": "stream",
     "text": [
      "the value of R-squared ofLassoRegeression is  0.523866885202\n",
      "the MSE of LassoRegeression is  0.0692328851786\n",
      "the MAE of LassoRegeression is  0.208942239191\n"
     ]
    }
   ],
   "source": [
    "print 'the value of R-squared ofLassoRegeression is ', r2_score(y_test, ridge_y_pred)\n",
    "print 'the MSE of LassoRegeression is ', mean_squared_error(ss_y.inverse_transform(y_test), ss_y.inverse_transform(ridge_y_pred))\n",
    "print 'the MAE of LassoRegeression is ', mean_absolute_error(ss_y.inverse_transform(y_test), ss_y.inverse_transform(ridge_y_pred))"
   ]
  },
  {
   "cell_type": "code",
   "execution_count": 77,
   "metadata": {
    "collapsed": true
   },
   "outputs": [],
   "source": [
    "model_ela = ElasticNet()\n",
    "model_ela.fit(X_train, y_train)\n",
    "ela_y_pred = model_ela.predict(X_test)"
   ]
  },
  {
   "cell_type": "code",
   "execution_count": 78,
   "metadata": {
    "collapsed": false
   },
   "outputs": [
    {
     "name": "stdout",
     "output_type": "stream",
     "text": [
      "the value of R-squared ELA is  0.195881675453\n",
      "the MSE of ELA is  0.11692409098\n",
      "the MAE of ELA is  0.287754433261\n"
     ]
    }
   ],
   "source": [
    "print 'the value of R-squared ELA is ', r2_score(y_test, ela_y_pred)\n",
    "print 'the MSE of ELA is ', mean_squared_error(ss_y.inverse_transform(y_test), ss_y.inverse_transform(ela_y_pred))\n",
    "print 'the MAE of ELA is ', mean_absolute_error(ss_y.inverse_transform(y_test), ss_y.inverse_transform(ela_y_pred))"
   ]
  },
  {
   "cell_type": "markdown",
   "metadata": {},
   "source": [
    "# SVM Regression"
   ]
  },
  {
   "cell_type": "code",
   "execution_count": 28,
   "metadata": {
    "collapsed": true
   },
   "outputs": [],
   "source": [
    "from sklearn.svm import SVR"
   ]
  },
  {
   "cell_type": "code",
   "execution_count": 29,
   "metadata": {
    "collapsed": true
   },
   "outputs": [],
   "source": [
    "linear_svr = SVR(kernel='linear')\n",
    "linear_svr.fit(X_train, y_train)\n",
    "linear_svr_y_pred = linear_svr.predict(X_test)"
   ]
  },
  {
   "cell_type": "code",
   "execution_count": 30,
   "metadata": {
    "collapsed": true
   },
   "outputs": [],
   "source": [
    "poly_svr = SVR(kernel='poly')\n",
    "poly_svr.fit(X_train, y_train)\n",
    "poly_svr_y_pred = poly_svr.predict(X_test)"
   ]
  },
  {
   "cell_type": "code",
   "execution_count": 31,
   "metadata": {
    "collapsed": true
   },
   "outputs": [],
   "source": [
    "rbf_svr = SVR(kernel='rbf')\n",
    "rbf_svr.fit(X_train, y_train)\n",
    "rbf_svr_y_pred = rbf_svr.predict(X_test)"
   ]
  },
  {
   "cell_type": "code",
   "execution_count": 32,
   "metadata": {
    "collapsed": false
   },
   "outputs": [
    {
     "name": "stdout",
     "output_type": "stream",
     "text": [
      "the value of R-squared of linear SVR is  0.50762635106\n",
      "the MSE of linear SVR is  0.0715943656145\n",
      "the MAE of linear SVR is  0.203078005214\n"
     ]
    }
   ],
   "source": [
    "print 'the value of R-squared of linear SVR is ', r2_score(y_test, linear_svr_y_pred)\n",
    "print 'the MSE of linear SVR is ', mean_squared_error(ss_y.inverse_transform(y_test), ss_y.inverse_transform(linear_svr_y_pred))\n",
    "print 'the MAE of linear SVR is ', mean_absolute_error(ss_y.inverse_transform(y_test), ss_y.inverse_transform(linear_svr_y_pred))"
   ]
  },
  {
   "cell_type": "code",
   "execution_count": 33,
   "metadata": {
    "collapsed": false
   },
   "outputs": [
    {
     "name": "stdout",
     "output_type": "stream",
     "text": [
      "the value of R-squared of poly SVR is  0.348077737883\n",
      "the MSE of poly SVR is  0.0947937829059\n",
      "the MAE of poly SVR is  0.251707938218\n"
     ]
    }
   ],
   "source": [
    "print 'the value of R-squared of poly SVR is ', r2_score(y_test, poly_svr_y_pred)\n",
    "print 'the MSE of poly SVR is ', mean_squared_error(ss_y.inverse_transform(y_test), ss_y.inverse_transform(poly_svr_y_pred))\n",
    "print 'the MAE of poly SVR is ', mean_absolute_error(ss_y.inverse_transform(y_test), ss_y.inverse_transform(poly_svr_y_pred))"
   ]
  },
  {
   "cell_type": "code",
   "execution_count": 34,
   "metadata": {
    "collapsed": false
   },
   "outputs": [
    {
     "name": "stdout",
     "output_type": "stream",
     "text": [
      "the value of R-squared of rbf SVR is  0.582788372065\n",
      "the MSE of rbf SVR is  0.0606653136156\n",
      "the MAE of rbf SVR is  0.197407172214\n"
     ]
    }
   ],
   "source": [
    "print 'the value of R-squared of rbf SVR is ', r2_score(y_test, rbf_svr_y_pred)\n",
    "print 'the MSE of rbf SVR is ', mean_squared_error(ss_y.inverse_transform(y_test), ss_y.inverse_transform(rbf_svr_y_pred))\n",
    "print 'the MAE of rbf SVR is ', mean_absolute_error(ss_y.inverse_transform(y_test), ss_y.inverse_transform(rbf_svr_y_pred))"
   ]
  },
  {
   "cell_type": "markdown",
   "metadata": {},
   "source": [
    "# K近邻"
   ]
  },
  {
   "cell_type": "code",
   "execution_count": 36,
   "metadata": {
    "collapsed": false
   },
   "outputs": [],
   "source": [
    "from sklearn.neighbors import KNeighborsRegressor\n",
    "uni_knr = KNeighborsRegressor(weights='uniform')\n",
    "uni_knr.fit(X_train, y_train)\n",
    "uni_knr_y_pred = uni_knr.predict(X_test)\n",
    "\n",
    "dis_knr = KNeighborsRegressor(weights='distance')\n",
    "dis_knr.fit(X_train, y_train)\n",
    "dis_knr_y_pred = dis_knr.predict(X_test)"
   ]
  },
  {
   "cell_type": "code",
   "execution_count": 38,
   "metadata": {
    "collapsed": false
   },
   "outputs": [
    {
     "name": "stdout",
     "output_type": "stream",
     "text": [
      "the value of R-squared of uni KNR is  0.54074896235\n",
      "the MSE of uni KNR is  0.0667781201718\n",
      "the MAE of uni KNR is  0.199597078147\n",
      "\n",
      "the value of R-squared of dis KNR is  0.541376605701\n",
      "the MSE of dis KNR is  0.0666868567022\n",
      "the MAE of dis KNR is  0.201531239862\n"
     ]
    }
   ],
   "source": [
    "print 'the value of R-squared of uni KNR is ', r2_score(y_test, uni_knr_y_pred)\n",
    "print 'the MSE of uni KNR is ', mean_squared_error(ss_y.inverse_transform(y_test), ss_y.inverse_transform(uni_knr_y_pred))\n",
    "print 'the MAE of uni KNR is ', mean_absolute_error(ss_y.inverse_transform(y_test), ss_y.inverse_transform(uni_knr_y_pred))\n",
    "print \n",
    "print 'the value of R-squared of dis KNR is ', r2_score(y_test, dis_knr_y_pred)\n",
    "print 'the MSE of dis KNR is ', mean_squared_error(ss_y.inverse_transform(y_test), ss_y.inverse_transform(dis_knr_y_pred))\n",
    "print 'the MAE of dis KNR is ', mean_absolute_error(ss_y.inverse_transform(y_test), ss_y.inverse_transform(dis_knr_y_pred))"
   ]
  },
  {
   "cell_type": "markdown",
   "metadata": {},
   "source": [
    "# TREE Model"
   ]
  },
  {
   "cell_type": "code",
   "execution_count": 42,
   "metadata": {
    "collapsed": true
   },
   "outputs": [],
   "source": [
    "from sklearn.tree import DecisionTreeRegressor\n",
    "dtr = DecisionTreeRegressor()\n",
    "dtr.fit(X_train, y_train)\n",
    "dtr_y_pred = dtr.predict(X_test)"
   ]
  },
  {
   "cell_type": "code",
   "execution_count": 43,
   "metadata": {
    "collapsed": false
   },
   "outputs": [
    {
     "name": "stdout",
     "output_type": "stream",
     "text": [
      "the value of R-squared of DTR is  0.17453666746\n",
      "the MSE of DTR is  0.120027795473\n",
      "the MAE of DTR is  0.292530798924\n"
     ]
    }
   ],
   "source": [
    "print 'the value of R-squared of DTR is ', r2_score(y_test, dtr_y_pred)\n",
    "print 'the MSE of DTR is ', mean_squared_error(ss_y.inverse_transform(y_test), ss_y.inverse_transform(dtr_y_pred))\n",
    "print 'the MAE of DTR is ', mean_absolute_error(ss_y.inverse_transform(y_test), ss_y.inverse_transform(dtr_y_pred))"
   ]
  },
  {
   "cell_type": "markdown",
   "metadata": {},
   "source": [
    "# Ensemble Learning"
   ]
  },
  {
   "cell_type": "code",
   "execution_count": 58,
   "metadata": {
    "collapsed": true
   },
   "outputs": [],
   "source": [
    "import xgboost as xgb\n",
    "xgb_model = xgb.XGBRegressor(max_depth=2)\n",
    "xgb_model.fit(X_train, y_train)\n",
    "xgb_y_pred = xgb_model.predict(X_test)"
   ]
  },
  {
   "cell_type": "code",
   "execution_count": 59,
   "metadata": {
    "collapsed": false
   },
   "outputs": [
    {
     "name": "stdout",
     "output_type": "stream",
     "text": [
      "the value of R-squared of XGB is  0.534471261519\n",
      "the MSE of XGB is  0.0676909421255\n",
      "the MAE of XGB is  0.219707113154\n"
     ]
    }
   ],
   "source": [
    "print 'the value of R-squared of XGB is ', r2_score(y_test, xgb_y_pred)\n",
    "print 'the MSE of XGB is ', mean_squared_error(ss_y.inverse_transform(y_test), ss_y.inverse_transform(xgb_y_pred))\n",
    "print 'the MAE of XGB is ', mean_absolute_error(ss_y.inverse_transform(y_test), ss_y.inverse_transform(xgb_y_pred))"
   ]
  },
  {
   "cell_type": "code",
   "execution_count": 67,
   "metadata": {
    "collapsed": true
   },
   "outputs": [],
   "source": [
    "from sklearn.ensemble import RandomForestRegressor, ExtraTreesRegressor, GradientBoostingRegressor"
   ]
  },
  {
   "cell_type": "code",
   "execution_count": 61,
   "metadata": {
    "collapsed": true
   },
   "outputs": [],
   "source": [
    "rfr = RandomForestRegressor()\n",
    "rfr.fit(X_train, y_train)\n",
    "rfr_y_pred = rfr.predict(X_test)"
   ]
  },
  {
   "cell_type": "code",
   "execution_count": 62,
   "metadata": {
    "collapsed": false
   },
   "outputs": [
    {
     "name": "stdout",
     "output_type": "stream",
     "text": [
      "the value of R-squared of RFR is  0.4924662792\n",
      "the MSE of RFR is  0.0737987397312\n",
      "the MAE of RFR is  0.233974566987\n"
     ]
    }
   ],
   "source": [
    "print 'the value of R-squared of RFR is ', r2_score(y_test, rfr_y_pred)\n",
    "print 'the MSE of RFR is ', mean_squared_error(ss_y.inverse_transform(y_test), ss_y.inverse_transform(rfr_y_pred))\n",
    "print 'the MAE of RFR is ', mean_absolute_error(ss_y.inverse_transform(y_test), ss_y.inverse_transform(rfr_y_pred))"
   ]
  },
  {
   "cell_type": "code",
   "execution_count": 63,
   "metadata": {
    "collapsed": true
   },
   "outputs": [],
   "source": [
    "etr = ExtraTreesRegressor()\n",
    "etr.fit(X_train, y_train)\n",
    "etr_y_pred = etr.predict(X_test)"
   ]
  },
  {
   "cell_type": "code",
   "execution_count": 64,
   "metadata": {
    "collapsed": false
   },
   "outputs": [
    {
     "name": "stdout",
     "output_type": "stream",
     "text": [
      "the value of R-squared of ETR is  0.406848764406\n",
      "the MSE of ETR is  0.0862480892655\n",
      "the MAE of ETR is  0.24277633652\n"
     ]
    }
   ],
   "source": [
    "print 'the value of R-squared of ETR is ', r2_score(y_test, etr_y_pred)\n",
    "print 'the MSE of ETR is ', mean_squared_error(ss_y.inverse_transform(y_test), ss_y.inverse_transform(etr_y_pred))\n",
    "print 'the MAE of ETR is ', mean_absolute_error(ss_y.inverse_transform(y_test), ss_y.inverse_transform(etr_y_pred))"
   ]
  },
  {
   "cell_type": "code",
   "execution_count": 68,
   "metadata": {
    "collapsed": false
   },
   "outputs": [],
   "source": [
    "gbr = GradientBoostingRegressor()\n",
    "gbr.fit(X_train, y_train)\n",
    "gbr_y_pred = gbr.predict(X_test)"
   ]
  },
  {
   "cell_type": "code",
   "execution_count": 69,
   "metadata": {
    "collapsed": false
   },
   "outputs": [
    {
     "name": "stdout",
     "output_type": "stream",
     "text": [
      "the value of R-squared of GBR is  0.475327483192\n",
      "the MSE of GBR is  0.076290833348\n",
      "the MAE of GBR is  0.234492649498\n"
     ]
    }
   ],
   "source": [
    "print 'the value of R-squared of GBR is ', r2_score(y_test, gbr_y_pred)\n",
    "print 'the MSE of GBR is ', mean_squared_error(ss_y.inverse_transform(y_test), ss_y.inverse_transform(gbr_y_pred))\n",
    "print 'the MAE of GBR is ', mean_absolute_error(ss_y.inverse_transform(y_test), ss_y.inverse_transform(gbr_y_pred))"
   ]
  }
 ],
 "metadata": {
  "kernelspec": {
   "display_name": "Python 2",
   "language": "python",
   "name": "python2"
  },
  "language_info": {
   "codemirror_mode": {
    "name": "ipython",
    "version": 2
   },
   "file_extension": ".py",
   "mimetype": "text/x-python",
   "name": "python",
   "nbconvert_exporter": "python",
   "pygments_lexer": "ipython2",
   "version": "2.7.12"
  }
 },
 "nbformat": 4,
 "nbformat_minor": 2
}
