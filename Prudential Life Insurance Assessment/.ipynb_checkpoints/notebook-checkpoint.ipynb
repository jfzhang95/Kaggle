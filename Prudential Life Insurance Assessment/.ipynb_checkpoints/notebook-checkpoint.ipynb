{
 "cells": [
  {
   "cell_type": "code",
   "execution_count": 1,
   "metadata": {
    "collapsed": false
   },
   "outputs": [
    {
     "name": "stderr",
     "output_type": "stream",
     "text": [
      "/usr/local/lib/python2.7/dist-packages/sklearn/cross_validation.py:44: DeprecationWarning: This module was deprecated in version 0.18 in favor of the model_selection module into which all the refactored classes and functions are moved. Also note that the interface of the new CV iterators are different from that of this module. This module will be removed in 0.20.\n",
      "  \"This module will be removed in 0.20.\", DeprecationWarning)\n"
     ]
    },
    {
     "ename": "ImportError",
     "evalue": "No module named tflearn",
     "output_type": "error",
     "traceback": [
      "\u001b[0;31m---------------------------------------------------------------------------\u001b[0m",
      "\u001b[0;31mImportError\u001b[0m                               Traceback (most recent call last)",
      "\u001b[0;32m<ipython-input-1-0304a75bc3e4>\u001b[0m in \u001b[0;36m<module>\u001b[0;34m()\u001b[0m\n\u001b[1;32m      6\u001b[0m \u001b[0;32mimport\u001b[0m \u001b[0mitertools\u001b[0m\u001b[0;34m\u001b[0m\u001b[0m\n\u001b[1;32m      7\u001b[0m \u001b[0;32mimport\u001b[0m \u001b[0mos\u001b[0m\u001b[0;34m\u001b[0m\u001b[0m\n\u001b[0;32m----> 8\u001b[0;31m \u001b[0;32mimport\u001b[0m \u001b[0mtflearn\u001b[0m\u001b[0;34m\u001b[0m\u001b[0m\n\u001b[0m\u001b[1;32m      9\u001b[0m \u001b[0;34m\u001b[0m\u001b[0m\n\u001b[1;32m     10\u001b[0m \u001b[0;34m\u001b[0m\u001b[0m\n",
      "\u001b[0;31mImportError\u001b[0m: No module named tflearn"
     ]
    }
   ],
   "source": [
    "import numpy as np\n",
    "import pandas as pd \n",
    "import seaborn as sns\n",
    "import tensorflow as tf\n",
    "\n",
    "import itertools\n",
    "import os\n",
    "import tflearn\n",
    "\n",
    "\n",
    "from matplotlib import pyplot as plt\n",
    "from sklearn.decomposition.kernel_pca import KernelPCA\n",
    "from sklearn.metrics import classification_report\n",
    "from sklearn.preprocessing import PolynomialFeatures"
   ]
  },
  {
   "cell_type": "code",
   "execution_count": null,
   "metadata": {
    "collapsed": true
   },
   "outputs": [],
   "source": [
    "%matplotlib inline"
   ]
  },
  {
   "cell_type": "code",
   "execution_count": null,
   "metadata": {
    "collapsed": true
   },
   "outputs": [],
   "source": [
    "train = pd.read_csv(\"../input/train.csv\")\n",
    "test = pd.read_csv(\"../input/test.csv\")\n",
    "\n",
    "submission = pd.read_csv(\"../input/sample_submission.csv\")\n",
    "submission[\"type\"] = \"Unknown\""
   ]
  },
  {
   "cell_type": "markdown",
   "metadata": {},
   "source": [
    "# First look at features."
   ]
  },
  {
   "cell_type": "code",
   "execution_count": null,
   "metadata": {
    "collapsed": true
   },
   "outputs": [],
   "source": [
    "sns.pairplot(train.drop(\"id\",axis=1), hue=\"type\", diag_kind=\"kde\")"
   ]
  },
  {
   "cell_type": "markdown",
   "metadata": {},
   "source": [
    "The fucking :) Goblins always in the middle."
   ]
  },
  {
   "cell_type": "markdown",
   "metadata": {},
   "source": [
    "# Feature engineering "
   ]
  },
  {
   "cell_type": "markdown",
   "metadata": {},
   "source": [
    "We will try some combinations to check if we can find a feature where the classes present lees overlap."
   ]
  },
  {
   "cell_type": "code",
   "execution_count": null,
   "metadata": {
    "collapsed": true
   },
   "outputs": [],
   "source": [
    "# interaction_only to avoid x**2, etc\n",
    "poly_features = PolynomialFeatures(interaction_only=True)"
   ]
  },
  {
   "cell_type": "code",
   "execution_count": null,
   "metadata": {
    "collapsed": true
   },
   "outputs": [],
   "source": [
    "# [:,5:] to discard columns of original features\n",
    "try_comb = pd.DataFrame(\n",
    "    poly_features.fit_transform(train.drop([\"id\", \"color\", \"type\"], axis=1))[:,5:],\n",
    "    columns=[\"boneXrotting\", \"boneXhair\", \"boneXsoul\",\n",
    "             \"rottingXhair\", \"rottingXsoul\", \n",
    "             \"hairXsoul\"]\n",
    ")\n",
    "try_comb[\"type\"] = train.type"
   ]
  },
  {
   "cell_type": "markdown",
   "metadata": {},
   "source": [
    "# Plot polynomial features"
   ]
  },
  {
   "cell_type": "code",
   "execution_count": null,
   "metadata": {
    "collapsed": true
   },
   "outputs": [],
   "source": [
    "sns.pairplot(try_comb, hue=\"type\", diag_kind=\"kde\")"
   ]
  },
  {
   "cell_type": "markdown",
   "metadata": {},
   "source": [
    "Keep:\n",
    "\n",
    "- bone_length_x_hair_length\n",
    "- bone_length_x_has_soul\n",
    "- hair_length_x_has_soul"
   ]
  },
  {
   "cell_type": "code",
   "execution_count": null,
   "metadata": {
    "collapsed": true
   },
   "outputs": [],
   "source": [
    "for i in [\"boneXhair\", \"boneXsoul\", \"hairXsoul\"]:\n",
    "    train[i] = try_comb[i].copy()\n",
    "try_comb = None"
   ]
  },
  {
   "cell_type": "markdown",
   "metadata": {},
   "source": [
    "Same for test"
   ]
  },
  {
   "cell_type": "code",
   "execution_count": null,
   "metadata": {
    "collapsed": true
   },
   "outputs": [],
   "source": [
    "try_comb = pd.DataFrame(\n",
    "    poly_features.fit_transform(test.drop([\"id\", \"color\"], axis=1))[:,5:],\n",
    "    columns=[\"boneXrotting\", \"boneXhair\", \"boneXsoul\",\n",
    "             \"rottingXhair\", \"rottingXsoul\", \n",
    "             \"hairXsoul\"]\n",
    ")\n",
    "\n",
    "for i in [\"boneXhair\", \"boneXsoul\", \"hairXsoul\"]:\n",
    "    test[i] = try_comb[i].copy()\n",
    "    \n",
    "try_comb = None"
   ]
  },
  {
   "cell_type": "markdown",
   "metadata": {},
   "source": [
    "# Get 1vs1 KPCA features"
   ]
  },
  {
   "cell_type": "markdown",
   "metadata": {},
   "source": [
    "Try to project all the features using a kernel PCA checking 1vs1 for all the classes."
   ]
  },
  {
   "cell_type": "code",
   "execution_count": null,
   "metadata": {
    "collapsed": true
   },
   "outputs": [],
   "source": [
    "train.loc[train.type == \"Ghost\", \"type\"] = 0\n",
    "train.loc[train.type == \"Ghoul\", \"type\"] = 1\n",
    "train.loc[train.type == \"Goblin\", \"type\"] = 2\n",
    "train[\"type\"] = train[\"type\"].astype(\"int\")"
   ]
  },
  {
   "cell_type": "code",
   "execution_count": null,
   "metadata": {
    "collapsed": true
   },
   "outputs": [],
   "source": [
    "is_ghost = (train.type == 0).values\n",
    "is_ghoul = (train.type == 1).values\n",
    "is_goblin = (train.type == 2).values"
   ]
  },
  {
   "cell_type": "code",
   "execution_count": null,
   "metadata": {
    "collapsed": true
   },
   "outputs": [],
   "source": [
    "ghost_ghoul = train.loc[is_ghost | is_ghoul].copy()\n",
    "ghost_goblin = train.loc[is_ghost | is_goblin].copy()\n",
    "ghoul_goblin = train.loc[is_ghoul| is_goblin].copy()"
   ]
  },
  {
   "cell_type": "markdown",
   "metadata": {},
   "source": [
    "Helper function to plot the KPCA projection on the 2 principal vectors."
   ]
  },
  {
   "cell_type": "code",
   "execution_count": null,
   "metadata": {
    "collapsed": true
   },
   "outputs": [],
   "source": [
    "def plot_KPCA(df, transf, labels={\"A\":0, \"B\":1}):\n",
    "    plt.figure(figsize=(10,8))\n",
    "\n",
    "    for label,marker,color in zip(list(labels.keys()),('x', 'o'),('blue', 'red')):\n",
    "\n",
    "        plt.scatter(x=transf[:,0][(df.type == labels[label]).values],\n",
    "                    y=transf[:,1][(df.type == labels[label]).values],\n",
    "                    marker=marker,\n",
    "                    color=color,\n",
    "                    alpha=0.7,\n",
    "                    label='class {}'.format(label)\n",
    "                    )\n",
    "\n",
    "    plt.legend()\n",
    "    plt.title('KernelPCA projection')\n",
    "\n",
    "    plt.show()"
   ]
  },
  {
   "cell_type": "markdown",
   "metadata": {},
   "source": [
    "### Ghost - Ghoul"
   ]
  },
  {
   "cell_type": "code",
   "execution_count": null,
   "metadata": {
    "collapsed": true
   },
   "outputs": [],
   "source": [
    "X = ghost_ghoul.drop([\"id\", \"color\", \"type\"], axis=1).values\n",
    "y = ghost_ghoul.type.values\n",
    "\n",
    "KPCA = KernelPCA(n_components=2, kernel=\"rbf\", gamma=1)\n",
    "ghost_ghoul_KPCA= KPCA.fit(X,y)\n",
    "\n",
    "ghost_ghoul_transf = ghost_ghoul_KPCA.transform(X)\n",
    "\n",
    "plot_KPCA(ghost_ghoul, ghost_ghoul_transf, labels={\"Ghost\":0, \"Ghoul\":1})"
   ]
  },
  {
   "cell_type": "markdown",
   "metadata": {},
   "source": [
    "Nice visual separation yee!"
   ]
  },
  {
   "cell_type": "markdown",
   "metadata": {},
   "source": [
    "### Ghost - Goblin"
   ]
  },
  {
   "cell_type": "code",
   "execution_count": null,
   "metadata": {
    "collapsed": true
   },
   "outputs": [],
   "source": [
    "X = ghost_goblin.drop([\"id\", \"color\", \"type\"], axis=1).values\n",
    "y = ghost_goblin.type.values\n",
    "\n",
    "KPCA = KernelPCA(n_components=2, kernel=\"rbf\")\n",
    "ghost_goblin_KPCA= KPCA.fit(X,y)\n",
    "\n",
    "ghost_goblin_transf = ghost_goblin_KPCA.transform(X)\n",
    "\n",
    "plot_KPCA(ghost_goblin, ghost_goblin_transf, labels={\"Ghost\":0, \"Ghoblin\":2})"
   ]
  },
  {
   "cell_type": "markdown",
   "metadata": {},
   "source": [
    "yeee again!"
   ]
  },
  {
   "cell_type": "markdown",
   "metadata": {},
   "source": [
    "### Ghoul - Goblin"
   ]
  },
  {
   "cell_type": "code",
   "execution_count": null,
   "metadata": {
    "collapsed": true
   },
   "outputs": [],
   "source": [
    "X = ghoul_goblin.drop([\"id\", \"color\", \"type\"], axis=1).values\n",
    "y = ghoul_goblin.type.values\n",
    "\n",
    "KPCA = KernelPCA(n_components=2, kernel=\"rbf\", gamma=3)\n",
    "ghoul_goblin_KPCA= KPCA.fit(X,y)\n",
    "\n",
    "ghoul_goblin_transf = ghoul_goblin_KPCA.transform(X)\n",
    "\n",
    "plot_KPCA(ghoul_goblin, ghoul_goblin_transf, labels={\"Ghoul\":1, \"Ghoblin\":2})"
   ]
  },
  {
   "cell_type": "markdown",
   "metadata": {},
   "source": [
    "Fucking Goblins wannabe Ghouls."
   ]
  },
  {
   "cell_type": "markdown",
   "metadata": {},
   "source": [
    "### Use the projection as new features."
   ]
  },
  {
   "cell_type": "code",
   "execution_count": null,
   "metadata": {
    "collapsed": true
   },
   "outputs": [],
   "source": [
    "ghost_ghoul[\"KPCA_0\"] = ghost_ghoul_transf[:,0]\n",
    "ghost_ghoul[\"KPCA_1\"] = ghost_ghoul_transf[:,1]\n",
    "\n",
    "ghost_goblin[\"KPCA_0\"] = ghost_goblin_transf[:,0]\n",
    "ghost_goblin[\"KPCA_1\"] = ghost_goblin_transf[:,1]\n",
    "\n",
    "ghoul_goblin[\"KPCA_0\"] = ghoul_goblin_transf[:,0]\n",
    "ghoul_goblin[\"KPCA_1\"] = ghoul_goblin_transf[:,1]"
   ]
  },
  {
   "cell_type": "markdown",
   "metadata": {},
   "source": [
    "# Neural Nets 1vs1"
   ]
  },
  {
   "cell_type": "code",
   "execution_count": null,
   "metadata": {
    "collapsed": true
   },
   "outputs": [],
   "source": [
    "def neural_net(X_train, y_train, X_test, layers=[1024], dropout=0.8, n_epoch=30):\n",
    "    \n",
    "    if isinstance(X_train, pd.DataFrame):\n",
    "        X_train = X_train.values\n",
    "        \n",
    "    if isinstance(y_train, pd.DataFrame):\n",
    "        y_train = y_train.values\n",
    "        \n",
    "    if isinstance(X_test, pd.DataFrame):\n",
    "        X_test = X_test.values\n",
    "        \n",
    "    with tf.Graph().as_default():\n",
    "\n",
    "        net = tflearn.input_data(shape=[None, X_train.shape[1]])\n",
    "        for layer_size in layers:            \n",
    "            net = tflearn.fully_connected(net, layer_size,\n",
    "                                          activation='relu',\n",
    "                                          weights_init='xavier',\n",
    "                                          regularizer='L2')\n",
    "            net = tflearn.dropout(net, dropout)\n",
    "        net = tflearn.fully_connected(net, y_train.shape[1], activation='softmax')\n",
    "        net = tflearn.regression(net)\n",
    "\n",
    "        model = tflearn.DNN(net, tensorboard_verbose=0)\n",
    "        model.fit(X_train, y_train, validation_set=0.2, n_epoch=n_epoch)\n",
    "\n",
    "        probs = np.array(model.predict(X_test))    \n",
    "        \n",
    "    return probs"
   ]
  },
  {
   "cell_type": "markdown",
   "metadata": {},
   "source": [
    "### Ghost-Ghoul"
   ]
  },
  {
   "cell_type": "code",
   "execution_count": null,
   "metadata": {
    "collapsed": true
   },
   "outputs": [],
   "source": [
    "X_train = ghost_ghoul.drop([\"id\", \"color\", \"type\"], axis=1)\n",
    "y_train = pd.get_dummies(ghost_ghoul[\"type\"])\n",
    "X_test = test.drop([\"id\", \"color\"], axis=1)\n",
    "\n",
    "# Apply the KPCA transformer to test\n",
    "transf = ghost_ghoul_KPCA.transform(X_test)\n",
    "\n",
    "X_test[\"KPCA_0\"] = transf[:,0]\n",
    "X_test[\"KPCA_1\"] = transf[:,1]"
   ]
  },
  {
   "cell_type": "code",
   "execution_count": null,
   "metadata": {
    "collapsed": true
   },
   "outputs": [],
   "source": [
    "ghost_ghoul_probs = neural_net(X_train, y_train, X_test, dropout=0.8, n_epoch=40)"
   ]
  },
  {
   "cell_type": "markdown",
   "metadata": {},
   "source": [
    "### Ghost-Goblin"
   ]
  },
  {
   "cell_type": "code",
   "execution_count": null,
   "metadata": {
    "collapsed": true
   },
   "outputs": [],
   "source": [
    "X_train = ghost_goblin.drop([\"id\", \"color\", \"type\"], axis=1)\n",
    "y_train = pd.get_dummies(ghost_goblin[\"type\"])\n",
    "X_test = test.drop([\"id\", \"color\"], axis=1)\n",
    "\n",
    "# Apply the KPCA transformer to test\n",
    "transf = ghost_goblin_KPCA.transform(X_test)\n",
    "\n",
    "X_test[\"KPCA_0\"] = transf[:,0]\n",
    "X_test[\"KPCA_1\"] = transf[:,1]"
   ]
  },
  {
   "cell_type": "code",
   "execution_count": null,
   "metadata": {
    "collapsed": true
   },
   "outputs": [],
   "source": [
    "ghost_goblin_probs = neural_net(X_train, y_train, X_test, layers=[512], dropout=0.8, n_epoch=60)"
   ]
  },
  {
   "cell_type": "markdown",
   "metadata": {},
   "source": [
    "### Ghoul-Goblin"
   ]
  },
  {
   "cell_type": "code",
   "execution_count": null,
   "metadata": {
    "collapsed": true
   },
   "outputs": [],
   "source": [
    "X_train = ghoul_goblin.drop([\"id\", \"color\", \"type\"], axis=1)\n",
    "y_train = pd.get_dummies(ghoul_goblin[\"type\"])\n",
    "X_test = test.drop([\"id\", \"color\"], axis=1)\n",
    "\n",
    "# Apply the KPCA transformer to test\n",
    "transf = ghoul_goblin_KPCA.transform(X_test)\n",
    "\n",
    "X_test[\"KPCA_0\"] = transf[:,0]\n",
    "X_test[\"KPCA_1\"] = transf[:,1]"
   ]
  },
  {
   "cell_type": "code",
   "execution_count": null,
   "metadata": {
    "collapsed": true
   },
   "outputs": [],
   "source": [
    "ghoul_goblin_probs = neural_net(X_train, y_train, X_test, dropout=0.5, n_epoch=40)"
   ]
  },
  {
   "cell_type": "markdown",
   "metadata": {},
   "source": [
    "# Vote"
   ]
  },
  {
   "cell_type": "code",
   "execution_count": null,
   "metadata": {
    "collapsed": true
   },
   "outputs": [],
   "source": [
    "global_predictions =  np.zeros((X_test.values.shape[0], 3))\n",
    "\n",
    "global_predictions[:,[0,1]] += ghost_ghoul_probs\n",
    "global_predictions[:,[0,2]] += ghost_goblin_probs\n",
    "global_predictions[:,[1,2]] += ghoul_goblin_probs"
   ]
  },
  {
   "cell_type": "markdown",
   "metadata": {},
   "source": [
    "# Plot global predictions on test set"
   ]
  },
  {
   "cell_type": "code",
   "execution_count": null,
   "metadata": {
    "collapsed": true
   },
   "outputs": [],
   "source": [
    "test[\"global_pred\"] = np.argmax(global_predictions, axis=1).astype(\"str\")\n",
    "\n",
    "test.loc[test.global_pred == \"0\", \"global_pred\"] = \"Ghost\"\n",
    "test.loc[test.global_pred == \"1\", \"global_pred\"] = \"Ghoul\"\n",
    "test.loc[test.global_pred == \"2\", \"global_pred\"] = \"Ghoblin\""
   ]
  },
  {
   "cell_type": "code",
   "execution_count": null,
   "metadata": {
    "collapsed": true
   },
   "outputs": [],
   "source": [
    "sns.pairplot(test.drop(\"id\",axis=1), hue=\"global_pred\", diag_kind=\"kde\")"
   ]
  },
  {
   "cell_type": "code",
   "execution_count": null,
   "metadata": {
    "collapsed": true
   },
   "outputs": [],
   "source": [
    "submission[\"type\"] = test[\"global_pred\"] \n",
    "submission.to_csv(\"sub.csv\", index=False)"
   ]
  },
  {
   "cell_type": "markdown",
   "metadata": {},
   "source": [
    "# TO BE CONTINUED"
   ]
  }
 ],
 "metadata": {
  "kernelspec": {
   "display_name": "Python 2",
   "language": "python",
   "name": "python2"
  },
  "language_info": {
   "codemirror_mode": {
    "name": "ipython",
    "version": 2
   },
   "file_extension": ".py",
   "mimetype": "text/x-python",
   "name": "python",
   "nbconvert_exporter": "python",
   "pygments_lexer": "ipython2",
   "version": "2.7.12"
  }
 },
 "nbformat": 4,
 "nbformat_minor": 0
}
